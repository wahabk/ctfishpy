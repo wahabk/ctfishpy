{
 "cells": [
  {
   "cell_type": "code",
   "execution_count": 3,
   "metadata": {},
   "outputs": [
    {
     "name": "stdout",
     "output_type": "stream",
     "text": [
      "\n",
      "EnvironmentFileNotFound: '/Users/wahab/code/fish.yml' file not found\n",
      "\n"
     ]
    }
   ],
   "source": [
    "!conda env create -f ../fish.yml  "
   ]
  },
  {
   "cell_type": "code",
   "execution_count": 4,
   "metadata": {},
   "outputs": [],
   "source": [
    "import ctfishpy"
   ]
  },
  {
   "cell_type": "code",
   "execution_count": 5,
   "metadata": {},
   "outputs": [],
   "source": [
    "data_path = \"/Users/wahab/Data/uCT\"\n",
    "ctreader = ctfishpy.CTreader(data_path)"
   ]
  },
  {
   "cell_type": "code",
   "execution_count": 7,
   "metadata": {},
   "outputs": [
    {
     "name": "stdout",
     "output_type": "stream",
     "text": [
      "{'ak_n': 1, 'Dataset': 'EK', 'old_n': 40, 'age': 24.0, 'age(old)': '2 year', 'genotype': 'wt', 'strain': 'wt', 'name': 'fli:gfp', 'shape': '(2000, 640, 640)', 'size': 819200000, 'VoxelSizeX': 0.020081640692724, 'VoxelSizeY': 0.020081640692724, 'VoxelSizeZ': 0.020081640692724, 're-uCT scan': nan, 'Comments': nan, 'Phantom': 'LONDON AB', 'Scaling Value': 'LONDON AB', 'Arb Value': 'LONDON AB', 'angle': 185, 'center': nan}\n"
     ]
    }
   ],
   "source": [
    "\n",
    "# example_path = \"/Users/wahab/Data/uCT/DICOMS/ak_1.dcm\"\n",
    "# scan = ctreader.read_dicom(example_path)\n",
    "scan = ctreader.read(1)\n",
    "metadata = ctreader.read_metadata(1)\n",
    "print(metadata)"
   ]
  },
  {
   "cell_type": "code",
   "execution_count": null,
   "metadata": {},
   "outputs": [
    {
     "ename": "KeyboardInterrupt",
     "evalue": "",
     "output_type": "error",
     "traceback": [
      "\u001b[0;31m---------------------------------------------------------------------------\u001b[0m",
      "\u001b[0;31mKeyboardInterrupt\u001b[0m                         Traceback (most recent call last)",
      "\u001b[1;32m/Users/wahab/code/ctfishpy/tutorial.ipynb Cell 5'\u001b[0m in \u001b[0;36m<cell line: 1>\u001b[0;34m()\u001b[0m\n\u001b[0;32m----> <a href='vscode-notebook-cell:/Users/wahab/code/ctfishpy/tutorial.ipynb#ch0000004?line=0'>1</a>\u001b[0m scan \u001b[39m=\u001b[39m ctreader\u001b[39m.\u001b[39;49mto8bit(scan)\n",
      "File \u001b[0;32m~/code/ctfishpy/ctfishpy/CTreader.py:387\u001b[0m, in \u001b[0;36mCTreader.to8bit\u001b[0;34m(self, array)\u001b[0m\n\u001b[1;32m    <a href='file:///Users/wahab/code/ctfishpy/ctfishpy/CTreader.py?line=380'>381</a>\u001b[0m \u001b[39m\"\"\"\u001b[39;00m\n\u001b[1;32m    <a href='file:///Users/wahab/code/ctfishpy/ctfishpy/CTreader.py?line=381'>382</a>\u001b[0m \u001b[39mChange array from 16bit to 8bit by mapping the data range to 0 - 255\u001b[39;00m\n\u001b[1;32m    <a href='file:///Users/wahab/code/ctfishpy/ctfishpy/CTreader.py?line=382'>383</a>\u001b[0m \n\u001b[1;32m    <a href='file:///Users/wahab/code/ctfishpy/ctfishpy/CTreader.py?line=383'>384</a>\u001b[0m \u001b[39m*NOTE* This does not convert to 8bit normally and is for GUI functions\u001b[39;00m\n\u001b[1;32m    <a href='file:///Users/wahab/code/ctfishpy/ctfishpy/CTreader.py?line=384'>385</a>\u001b[0m \u001b[39m\"\"\"\u001b[39;00m\n\u001b[1;32m    <a href='file:///Users/wahab/code/ctfishpy/ctfishpy/CTreader.py?line=385'>386</a>\u001b[0m \u001b[39mif\u001b[39;00m array\u001b[39m.\u001b[39mdtype \u001b[39m==\u001b[39m \u001b[39m\"\u001b[39m\u001b[39muint16\u001b[39m\u001b[39m\"\u001b[39m:\n\u001b[0;32m--> <a href='file:///Users/wahab/code/ctfishpy/ctfishpy/CTreader.py?line=386'>387</a>\u001b[0m \tnew_array \u001b[39m=\u001b[39m ((array \u001b[39m-\u001b[39;49m array\u001b[39m.\u001b[39;49mmin()) \u001b[39m/\u001b[39;49m (array\u001b[39m.\u001b[39;49mptp() \u001b[39m/\u001b[39;49m \u001b[39m255.0\u001b[39;49m))\u001b[39m.\u001b[39mastype(np\u001b[39m.\u001b[39muint8)\n\u001b[1;32m    <a href='file:///Users/wahab/code/ctfishpy/ctfishpy/CTreader.py?line=387'>388</a>\u001b[0m \t\u001b[39mreturn\u001b[39;00m new_array\n\u001b[1;32m    <a href='file:///Users/wahab/code/ctfishpy/ctfishpy/CTreader.py?line=388'>389</a>\u001b[0m \u001b[39melse\u001b[39;00m:\n",
      "\u001b[0;31mKeyboardInterrupt\u001b[0m: "
     ]
    }
   ],
   "source": [
    "# scan = ctreader.to8bit(scan)"
   ]
  },
  {
   "cell_type": "code",
   "execution_count": 24,
   "metadata": {},
   "outputs": [
    {
     "name": "stderr",
     "output_type": "stream",
     "text": [
      "/Users/wahab/miniconda3/envs/fish/lib/python3.8/site-packages/napari_tools_menu/__init__.py:168: FutureWarning: Public access to Window.qt_viewer is deprecated and will be removed in\n",
      "v0.5.0. It is considered an \"implementation detail\" of the napari\n",
      "application, not part of the napari viewer model. If your use case\n",
      "requires access to qt_viewer, please open an issue to discuss.\n",
      "  self.tools_menu = ToolsMenu(self, self.qt_viewer.viewer)\n",
      "/Users/wahab/miniconda3/envs/fish/lib/python3.8/site-packages/napari_tools_menu/__init__.py:168: FutureWarning: Public access to Window.qt_viewer is deprecated and will be removed in\n",
      "v0.5.0. It is considered an \"implementation detail\" of the napari\n",
      "application, not part of the napari viewer model. If your use case\n",
      "requires access to qt_viewer, please open an issue to discuss.\n",
      "  self.tools_menu = ToolsMenu(self, self.qt_viewer.viewer)\n"
     ]
    }
   ],
   "source": [
    "# ctreader.view(scan)\n",
    "\n",
    "import napari\n",
    "import numpy as np \n",
    "\n",
    "labels = np.zeros_like(scan)\n",
    "\n",
    "\n",
    "viewer = napari.Viewer()\n",
    "layer = viewer.add_image(scan)\n",
    "labels = viewer.add_labels(labels)\n",
    "napari.run()\n"
   ]
  },
  {
   "cell_type": "code",
   "execution_count": 25,
   "metadata": {},
   "outputs": [
    {
     "data": {
      "text/plain": [
       "1"
      ]
     },
     "execution_count": 25,
     "metadata": {},
     "output_type": "execute_result"
    }
   ],
   "source": [
    "l = labels.data\n",
    "l.max()\n"
   ]
  },
  {
   "cell_type": "code",
   "execution_count": 29,
   "metadata": {},
   "outputs": [
    {
     "data": {
      "text/plain": [
       "array([0.84178553, 0.7699519 ])"
      ]
     },
     "execution_count": 29,
     "metadata": {},
     "output_type": "execute_result"
    }
   ],
   "source": [
    "ctreader.getDens(scan, labels.data, 2)\n",
    "\n",
    "# ctreader.getDens(scan, labels.data, 1)"
   ]
  },
  {
   "cell_type": "code",
   "execution_count": null,
   "metadata": {},
   "outputs": [],
   "source": []
  }
 ],
 "metadata": {
  "interpreter": {
   "hash": "012ba42b8a5857cdfadff9e7704e268e8578f3a61b3dd4a05cb85f1b925aa040"
  },
  "kernelspec": {
   "display_name": "Python 3.8.12 ('fish')",
   "language": "python",
   "name": "python3"
  },
  "language_info": {
   "codemirror_mode": {
    "name": "ipython",
    "version": 3
   },
   "file_extension": ".py",
   "mimetype": "text/x-python",
   "name": "python",
   "nbconvert_exporter": "python",
   "pygments_lexer": "ipython3",
   "version": "3.8.12"
  },
  "orig_nbformat": 4
 },
 "nbformat": 4,
 "nbformat_minor": 2
}
