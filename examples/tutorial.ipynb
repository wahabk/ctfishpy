{
 "cells": [
  {
   "cell_type": "markdown",
   "metadata": {},
   "source": [
    "# Ctfishpy tutorial!\n",
    "\n",
    "To install check the directions on the homepage [github.com/wahabk/ctfishpy](https://github.com/wahabk/ctfishpy)\n",
    "\n",
    "I would recommend that you install this with the conda environment to not face any issues"
   ]
  },
  {
   "cell_type": "code",
   "execution_count": 1,
   "metadata": {},
   "outputs": [],
   "source": [
    "# check your installation worked\n",
    "\n",
    "import ctfishpy"
   ]
  },
  {
   "cell_type": "markdown",
   "metadata": {},
   "source": [
    "# How to read a scan and its metadata"
   ]
  },
  {
   "cell_type": "code",
   "execution_count": 7,
   "metadata": {},
   "outputs": [
    {
     "name": "stdout",
     "output_type": "stream",
     "text": [
      "{'ak_n': 1, 'Dataset': 'EK', 'old_n': 40, 'age': 24.0, 'age(old)': '2 year', 'genotype': 'wt', 'strain': 'wt', 'name': 'fli:gfp', 'shape': '(2000, 640, 640)', 'size': 819200000, 'VoxelSizeX': 0.020081640692724, 'VoxelSizeY': 0.020081640692724, 'VoxelSizeZ': 0.020081640692724, 're-uCT scan': nan, 'Comments': nan, 'Phantom': 'LONDON AB', 'Scaling Value': 'LONDON AB', 'Arb Value': 'LONDON AB', 'angle': 185, 'center': nan}\n"
     ]
    }
   ],
   "source": [
    "ctreader = ctfishpy.CTreader()\n",
    "\n",
    "example_path = \"/Users/wahab/Data/uCT/DICOMS/ak_1.dcm\" # define the path to your dicom\n",
    "scan = ctreader.read_dicom(example_path) # read the scan\n",
    "scan.shape # print the scan dimensions\n",
    "metadata = ctreader.read_metadata(1) # read the metadata from the mastersheet\n",
    "metadata"
   ]
  },
  {
   "cell_type": "markdown",
   "metadata": {},
   "source": [
    "# Automated path finding\n",
    "\n",
    "If you give the reader the path to your CT dataset it will find the fish dicoms to save on lines of code"
   ]
  },
  {
   "cell_type": "code",
   "execution_count": 5,
   "metadata": {},
   "outputs": [],
   "source": [
    "dataset_path = \"/Users/wahab/Data/uCT\"\n",
    "ctreader = ctfishpy.CTreader(dataset_path)\n",
    "\n",
    "scan = ctreader.read(1)\n",
    "scan.shape"
   ]
  },
  {
   "cell_type": "markdown",
   "metadata": {},
   "source": [
    "# Viewing scans\n",
    "\n",
    "Ctfishpy contains a bunch of guis to view and manipulate ct scans that are made in napari"
   ]
  },
  {
   "cell_type": "code",
   "execution_count": null,
   "metadata": {},
   "outputs": [],
   "source": [
    "ctreader.view(scan)"
   ]
  }
 ],
 "metadata": {
  "kernelspec": {
   "display_name": "Python 3.8.12 ('fish')",
   "language": "python",
   "name": "python3"
  },
  "language_info": {
   "codemirror_mode": {
    "name": "ipython",
    "version": 3
   },
   "file_extension": ".py",
   "mimetype": "text/x-python",
   "name": "python",
   "nbconvert_exporter": "python",
   "pygments_lexer": "ipython3",
   "version": "3.8.12"
  },
  "orig_nbformat": 4,
  "vscode": {
   "interpreter": {
    "hash": "3c8df5706e5bac95d18ec2f255759eaf2fbe9d47f924108f97ff2bee0536f5de"
   }
  }
 },
 "nbformat": 4,
 "nbformat_minor": 2
}
