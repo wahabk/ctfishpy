{
 "cells": [
  {
   "cell_type": "markdown",
   "metadata": {},
   "source": [
    "# CTFishPy Ingest Tutorial\n",
    "\n",
    "This notebook will walk you through how to ingest a multi-fish tiff scan and seperate them into separate dicom files. Make sure to also sort out your metadata.\n",
    "\n",
    "Please make sure you have ctfishpy installed.\n",
    "\n",
    "\n",
    "Before we start let's import ctfishpy and required libraries then initialise the ctreader and lumpfish:\n"
   ]
  },
  {
   "cell_type": "code",
   "execution_count": 1,
   "metadata": {},
   "outputs": [],
   "source": [
    "#Import ctfishpy and initialise ctreader\n",
    "from pathlib2 import Path\n",
    "import pandas as pd\n",
    "import numpy as np\n",
    "import ctfishpy\n",
    "import napari\n",
    "\n",
    "ctreader = ctfishpy.CTreader(data_path=None)\n",
    "lump = ctfishpy.Lumpfish()"
   ]
  },
  {
   "cell_type": "markdown",
   "metadata": {},
   "source": [
    "## Step 1\n",
    "Define the path to your tif folder\n",
    "\n",
    "Change the detection scale to 40 to make the interface quicker\n",
    "\n",
    "Set the slice range to read first for instance (900,1100) will read 200 slices in the middle of the scan, \n",
    "if you want to read the whole scan just set slice_range to `None`\n",
    "\n",
    "Number your fish by editing `fish_nums`"
   ]
  },
  {
   "cell_type": "code",
   "execution_count": 3,
   "metadata": {},
   "outputs": [
    {
     "name": "stdout",
     "output_type": "stream",
     "text": [
      "[CTFishPy] Reading uCT scan: /home/ak18001/Data/HDD/uCT/MISC/QIAO_dirty/QT_001-004 [2021-06-03 15.17.37]/QT_001-004_[tifs]\n"
     ]
    },
    {
     "name": "stderr",
     "output_type": "stream",
     "text": [
      "100%|██████████| 100/100 [00:29<00:00,  3.37it/s]"
     ]
    },
    {
     "name": "stdout",
     "output_type": "stream",
     "text": [
      "(100, 1755, 1664)\n"
     ]
    },
    {
     "name": "stderr",
     "output_type": "stream",
     "text": [
      "\n"
     ]
    }
   ],
   "source": [
    "tif_path = Path(\"path/to/005-009_tifs\") # Make sure this is the tif file and not the projections\n",
    "# tif_path = Path(\"/home/ak18001/Data/HDD/uCT/MISC/QIAO_dirty/QT_001-004 [2021-06-03 15.17.37]/QT_001-004_[tifs]\") # Make sure this is the tif file and not the projections\n",
    "\n",
    "output_path = Path(\"path/to/output/\")\n",
    "# output_path = Path(\"/home/ak18001/Data/HDD/uCT/MISC/QIAO_dirty/\")\n",
    "\n",
    "original_scale = 100 # full scale of scan\n",
    "detection_scale = 40 # detection scale\n",
    "slice_range = (500,600) # slice range, can be a tuple eg (500,600) or None to read the whole scan\n",
    "\n",
    "dataset_name = 'EK' # eg EK, AK, QT\n",
    "fish_nums = [1,2,3,4] # numbers of fish\n",
    "voxel_size_x = 0.0020\n",
    "voxel_size_y = 0.0020\n",
    "voxel_size_z = 0.0020\n",
    "\n",
    "ct = lump.read_tiff(tif_path, r=slice_range, scale=original_scale)"
   ]
  },
  {
   "cell_type": "markdown",
   "metadata": {},
   "source": [
    "## Step 2\n",
    "\n",
    "Use lumpfish to detect tubes at a 40% scale to make the interface faster\n",
    "\n",
    "This will start a window with all the detection parameters for you to tune"
   ]
  },
  {
   "cell_type": "code",
   "execution_count": 4,
   "metadata": {},
   "outputs": [],
   "source": [
    "scale_40 = lump.rescale(ct, detection_scale)\n",
    "# detect tubes\n",
    "viewer = napari.Viewer(show=False)\n",
    "circle_dict = lump.detectTubes(viewer, scale_40)"
   ]
  },
  {
   "cell_type": "markdown",
   "metadata": {},
   "source": [
    "## Step 3\n",
    "\n",
    "Label the order of the fish - this is usually marked by a sticker or a cap on the tube of the first fish, then go clockwise. If there is a fish in the middle this is the last one."
   ]
  },
  {
   "cell_type": "code",
   "execution_count": 5,
   "metadata": {},
   "outputs": [],
   "source": [
    "# label order\n",
    "viewer = napari.Viewer(show=False)\n",
    "ordered = lump.labelOrder(viewer, circle_dict)"
   ]
  },
  {
   "cell_type": "markdown",
   "metadata": {},
   "source": [
    "## Step 4\n",
    "\n",
    "choose the output folder to save your scans as dicoms, this will label them according to `fish_nums` which you set earlier.\n",
    "\n",
    "Finally crop the fish according to the detection and the order, \n",
    "then align each fish so that the dorsal fin is pointing upwards.\n"
   ]
  },
  {
   "cell_type": "code",
   "execution_count": 6,
   "metadata": {},
   "outputs": [
    {
     "ename": "FileNotFoundError",
     "evalue": "[Errno 2] No such file or directory: 'path/to/output/1.dcm'",
     "output_type": "error",
     "traceback": [
      "\u001b[0;31m---------------------------------------------------------------------------\u001b[0m",
      "\u001b[0;31mFileNotFoundError\u001b[0m                         Traceback (most recent call last)",
      "\u001b[1;32m/home/ak18001/code/ctfishpy/examples/ingest.ipynb Cell 10'\u001b[0m in \u001b[0;36m<cell line: 9>\u001b[0;34m()\u001b[0m\n\u001b[1;32m     <a href='vscode-notebook-cell:/home/ak18001/code/ctfishpy/examples/ingest.ipynb#ch0000014?line=14'>15</a>\u001b[0m \u001b[39m#TODO make dataframe of new metadata\u001b[39;00m\n\u001b[1;32m     <a href='vscode-notebook-cell:/home/ak18001/code/ctfishpy/examples/ingest.ipynb#ch0000014?line=16'>17</a>\u001b[0m final_ct \u001b[39m=\u001b[39m ctreader\u001b[39m.\u001b[39mrotate_array(cropped, angle, is_label\u001b[39m=\u001b[39m\u001b[39mFalse\u001b[39;00m, center\u001b[39m=\u001b[39mcenter)\n\u001b[0;32m---> <a href='vscode-notebook-cell:/home/ak18001/code/ctfishpy/examples/ingest.ipynb#ch0000014?line=17'>18</a>\u001b[0m ctreader\u001b[39m.\u001b[39;49mwrite_dicom(output_path\u001b[39m/\u001b[39;49m\u001b[39mf\u001b[39;49m\u001b[39m\"\u001b[39;49m\u001b[39m{\u001b[39;49;00mnum\u001b[39m}\u001b[39;49;00m\u001b[39m.dcm\u001b[39;49m\u001b[39m\"\u001b[39;49m, final_ct)\n\u001b[1;32m     <a href='vscode-notebook-cell:/home/ak18001/code/ctfishpy/examples/ingest.ipynb#ch0000014?line=19'>20</a>\u001b[0m \u001b[39mprint\u001b[39m(\u001b[39m'\u001b[39m\u001b[39mnum and shape\u001b[39m\u001b[39m'\u001b[39m, num, cropped\u001b[39m.\u001b[39mshape)\n\u001b[1;32m     <a href='vscode-notebook-cell:/home/ak18001/code/ctfishpy/examples/ingest.ipynb#ch0000014?line=20'>21</a>\u001b[0m \u001b[39mprint\u001b[39m(\u001b[39m'\u001b[39m\u001b[39mangle and center\u001b[39m\u001b[39m'\u001b[39m, angle, center)\n",
      "File \u001b[0;32m~/miniconda3/envs/fish/lib/python3.8/site-packages/ctfishpy/CTreader.py:157\u001b[0m, in \u001b[0;36mCTreader.write_dicom\u001b[0;34m(self, path, array)\u001b[0m\n\u001b[1;32m    <a href='file:///home/ak18001/miniconda3/envs/fish/lib/python3.8/site-packages/ctfishpy/CTreader.py?line=152'>153</a>\u001b[0m \u001b[39m# missing: BitsAllocated, Rows, Columns, SamplesPerPixel, PhotometricInterpretation, PixelRepresentation, BitsStored\u001b[39;00m\n\u001b[1;32m    <a href='file:///home/ak18001/miniconda3/envs/fish/lib/python3.8/site-packages/ctfishpy/CTreader.py?line=154'>155</a>\u001b[0m ds\u001b[39m.\u001b[39mPixelData \u001b[39m=\u001b[39m array\u001b[39m.\u001b[39mtobytes()\n\u001b[0;32m--> <a href='file:///home/ak18001/miniconda3/envs/fish/lib/python3.8/site-packages/ctfishpy/CTreader.py?line=156'>157</a>\u001b[0m ds\u001b[39m.\u001b[39;49msave_as(path, write_like_original\u001b[39m=\u001b[39;49m\u001b[39mTrue\u001b[39;49;00m)\n",
      "File \u001b[0;32m~/miniconda3/envs/fish/lib/python3.8/site-packages/pydicom/dataset.py:2061\u001b[0m, in \u001b[0;36mDataset.save_as\u001b[0;34m(self, filename, write_like_original)\u001b[0m\n\u001b[1;32m   <a href='file:///home/ak18001/miniconda3/envs/fish/lib/python3.8/site-packages/pydicom/dataset.py?line=2045'>2046</a>\u001b[0m \u001b[39mdef\u001b[39;00m \u001b[39msave_as\u001b[39m(\n\u001b[1;32m   <a href='file:///home/ak18001/miniconda3/envs/fish/lib/python3.8/site-packages/pydicom/dataset.py?line=2046'>2047</a>\u001b[0m     \u001b[39mself\u001b[39m,\n\u001b[1;32m   <a href='file:///home/ak18001/miniconda3/envs/fish/lib/python3.8/site-packages/pydicom/dataset.py?line=2047'>2048</a>\u001b[0m     filename: Union[\u001b[39mstr\u001b[39m, \u001b[39m\"\u001b[39m\u001b[39mos.PathLike[AnyStr]\u001b[39m\u001b[39m\"\u001b[39m, BinaryIO],\n\u001b[1;32m   <a href='file:///home/ak18001/miniconda3/envs/fish/lib/python3.8/site-packages/pydicom/dataset.py?line=2048'>2049</a>\u001b[0m     write_like_original: \u001b[39mbool\u001b[39m \u001b[39m=\u001b[39m \u001b[39mTrue\u001b[39;00m\n\u001b[1;32m   <a href='file:///home/ak18001/miniconda3/envs/fish/lib/python3.8/site-packages/pydicom/dataset.py?line=2049'>2050</a>\u001b[0m ) \u001b[39m-\u001b[39m\u001b[39m>\u001b[39m \u001b[39mNone\u001b[39;00m:\n\u001b[1;32m   <a href='file:///home/ak18001/miniconda3/envs/fish/lib/python3.8/site-packages/pydicom/dataset.py?line=2050'>2051</a>\u001b[0m     \u001b[39m\"\"\"Write the :class:`Dataset` to `filename`.\u001b[39;00m\n\u001b[1;32m   <a href='file:///home/ak18001/miniconda3/envs/fish/lib/python3.8/site-packages/pydicom/dataset.py?line=2051'>2052</a>\u001b[0m \n\u001b[1;32m   <a href='file:///home/ak18001/miniconda3/envs/fish/lib/python3.8/site-packages/pydicom/dataset.py?line=2052'>2053</a>\u001b[0m \u001b[39m    Wrapper for pydicom.filewriter.dcmwrite, passing this dataset to it.\u001b[39;00m\n\u001b[0;32m   (...)\u001b[0m\n\u001b[1;32m   <a href='file:///home/ak18001/miniconda3/envs/fish/lib/python3.8/site-packages/pydicom/dataset.py?line=2058'>2059</a>\u001b[0m \u001b[39m        Write a DICOM file from a :class:`FileDataset` instance.\u001b[39;00m\n\u001b[1;32m   <a href='file:///home/ak18001/miniconda3/envs/fish/lib/python3.8/site-packages/pydicom/dataset.py?line=2059'>2060</a>\u001b[0m \u001b[39m    \"\"\"\u001b[39;00m\n\u001b[0;32m-> <a href='file:///home/ak18001/miniconda3/envs/fish/lib/python3.8/site-packages/pydicom/dataset.py?line=2060'>2061</a>\u001b[0m     pydicom\u001b[39m.\u001b[39;49mdcmwrite(filename, \u001b[39mself\u001b[39;49m, write_like_original)\n",
      "File \u001b[0;32m~/miniconda3/envs/fish/lib/python3.8/site-packages/pydicom/filewriter.py:1109\u001b[0m, in \u001b[0;36mdcmwrite\u001b[0;34m(filename, dataset, write_like_original)\u001b[0m\n\u001b[1;32m   <a href='file:///home/ak18001/miniconda3/envs/fish/lib/python3.8/site-packages/pydicom/filewriter.py?line=1106'>1107</a>\u001b[0m filename \u001b[39m=\u001b[39m path_from_pathlike(filename)\n\u001b[1;32m   <a href='file:///home/ak18001/miniconda3/envs/fish/lib/python3.8/site-packages/pydicom/filewriter.py?line=1107'>1108</a>\u001b[0m \u001b[39mif\u001b[39;00m \u001b[39misinstance\u001b[39m(filename, \u001b[39mstr\u001b[39m):\n\u001b[0;32m-> <a href='file:///home/ak18001/miniconda3/envs/fish/lib/python3.8/site-packages/pydicom/filewriter.py?line=1108'>1109</a>\u001b[0m     fp \u001b[39m=\u001b[39m DicomFile(filename, \u001b[39m'\u001b[39;49m\u001b[39mwb\u001b[39;49m\u001b[39m'\u001b[39;49m)\n\u001b[1;32m   <a href='file:///home/ak18001/miniconda3/envs/fish/lib/python3.8/site-packages/pydicom/filewriter.py?line=1109'>1110</a>\u001b[0m     \u001b[39m# caller provided a file name; we own the file handle\u001b[39;00m\n\u001b[1;32m   <a href='file:///home/ak18001/miniconda3/envs/fish/lib/python3.8/site-packages/pydicom/filewriter.py?line=1110'>1111</a>\u001b[0m     caller_owns_file \u001b[39m=\u001b[39m \u001b[39mFalse\u001b[39;00m\n",
      "File \u001b[0;32m~/miniconda3/envs/fish/lib/python3.8/site-packages/pydicom/filebase.py:212\u001b[0m, in \u001b[0;36mDicomFile\u001b[0;34m(*args, **kwargs)\u001b[0m\n\u001b[1;32m    <a href='file:///home/ak18001/miniconda3/envs/fish/lib/python3.8/site-packages/pydicom/filebase.py?line=210'>211</a>\u001b[0m \u001b[39mdef\u001b[39;00m \u001b[39mDicomFile\u001b[39m(\u001b[39m*\u001b[39margs: Any, \u001b[39m*\u001b[39m\u001b[39m*\u001b[39mkwargs: Any) \u001b[39m-\u001b[39m\u001b[39m>\u001b[39m DicomFileLike:\n\u001b[0;32m--> <a href='file:///home/ak18001/miniconda3/envs/fish/lib/python3.8/site-packages/pydicom/filebase.py?line=211'>212</a>\u001b[0m     \u001b[39mreturn\u001b[39;00m DicomFileLike(\u001b[39mopen\u001b[39;49m(\u001b[39m*\u001b[39;49margs, \u001b[39m*\u001b[39;49m\u001b[39m*\u001b[39;49mkwargs))\n",
      "\u001b[0;31mFileNotFoundError\u001b[0m: [Errno 2] No such file or directory: 'path/to/output/1.dcm'"
     ]
    }
   ],
   "source": [
    "cropped_cts = lump.crop(ct, ordered, scale=[detection_scale,original_scale])\n",
    "\n",
    "df = pd.DataFrame(columns = ['ak_n', 'Dataset', 'old_n', 'age', 'age(old)', 'genotype', 'strain',\n",
    "       'name', 'shape', 'size', 'VoxelSizeX', 'VoxelSizeY', 'VoxelSizeZ',\n",
    "       're-uCT scan', 'Comments', 'Phantom', 'Scaling Value', 'Arb Value',\n",
    "       'angle', 'center'], \n",
    "                   index = fish_nums)\n",
    "\n",
    "for i,cropped in enumerate(cropped_cts):\n",
    "    num = fish_nums[i]\n",
    "\n",
    "    spin_viewer = napari.Viewer(show=False)\n",
    "    angle, center = lump.spin(spin_viewer, cropped)\n",
    "\n",
    "    #TODO make dataframe of new metadata\n",
    "\n",
    "    final_ct = ctreader.rotate_array(cropped, angle, is_label=False, center=center)\n",
    "    ctreader.write_dicom(output_path/f\"{num}.dcm\", final_ct)\n",
    "\n",
    "    print('num and shape', num, cropped.shape)\n",
    "    print('angle and center', angle, center)\n",
    "\n",
    "    df.loc[num]['Dataset']      = dataset_name\n",
    "    df.loc[num]['shape']        = final_ct.shape\n",
    "    df.loc[num]['size']         = final_ct.size\n",
    "    df.loc[num]['VoxelSizeX']   = voxel_size_x\n",
    "    df.loc[num]['VoxelSizeY']   = voxel_size_y\n",
    "    df.loc[num]['VoxelSizeZ']   = voxel_size_z\n",
    "    df.loc[num]['angle']        = angle\n",
    "    df.loc[num]['center']       = center\n",
    "\n",
    "df.to_csv(output_path / \"temp_metadata.csv\")"
   ]
  }
 ],
 "metadata": {
  "interpreter": {
   "hash": "c7ef703d2f74eb191bb54d0010e4327be7d19e2bf5802fe174a384af454545ee"
  },
  "kernelspec": {
   "display_name": "Python 3.8.12 ('fish')",
   "language": "python",
   "name": "python3"
  },
  "language_info": {
   "codemirror_mode": {
    "name": "ipython",
    "version": 3
   },
   "file_extension": ".py",
   "mimetype": "text/x-python",
   "name": "python",
   "nbconvert_exporter": "python",
   "pygments_lexer": "ipython3",
   "version": "3.8.12"
  },
  "orig_nbformat": 4
 },
 "nbformat": 4,
 "nbformat_minor": 2
}
