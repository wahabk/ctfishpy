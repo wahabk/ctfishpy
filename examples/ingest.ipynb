{
 "cells": [
  {
   "cell_type": "markdown",
   "metadata": {},
   "source": [
    "# CTFishPy Ingest Tutorial\n",
    "\n",
    "This notebook will walk you through how to ingest a multi-fish tiff scan and seperate them into separate dicom files. Make sure to also sort out your metadata.\n",
    "\n",
    "Please make sure you have ctfishpy installed.\n",
    "\n",
    "\n",
    "Before we start let's import ctfishpy and required libraries then initialise the ctreader and lumpfish:\n"
   ]
  },
  {
   "cell_type": "code",
   "execution_count": 1,
   "metadata": {},
   "outputs": [],
   "source": [
    "#Import ctfishpy and initialise ctreader\n",
    "from pathlib2 import Path\n",
    "import pandas as pd\n",
    "import numpy as np\n",
    "import ctfishpy\n",
    "import napari\n",
    "\n",
    "ctreader = ctfishpy.CTreader(data_path=None)\n",
    "lump = ctfishpy.Lumpfish()"
   ]
  },
  {
   "cell_type": "markdown",
   "metadata": {},
   "source": [
    "## Step 1\n",
    "Define the path to your tif folder\n",
    "\n",
    "Change the detection scale to 40 to make the interface quicker\n",
    "\n",
    "Set the slice range to read first for instance (900,1100) will read 200 slices in the middle of the scan, \n",
    "if you want to read the whole scan just set slice_range to `None`\n",
    "\n",
    "Number your fish by editing `fish_nums`"
   ]
  },
  {
   "cell_type": "code",
   "execution_count": 2,
   "metadata": {},
   "outputs": [
    {
     "name": "stdout",
     "output_type": "stream",
     "text": [
      "[CTFishPy] Reading uCT scan: /home/ak18001/Data/HDD/uCT/MISC/QIAO_dirty/QT_001-004 [2021-06-03 15.17.37]/QT_001-004_[tifs]\n"
     ]
    },
    {
     "name": "stderr",
     "output_type": "stream",
     "text": [
      "100%|██████████| 10/10 [00:02<00:00,  3.51it/s]"
     ]
    },
    {
     "name": "stdout",
     "output_type": "stream",
     "text": [
      "(10, 1755, 1664)\n"
     ]
    },
    {
     "name": "stderr",
     "output_type": "stream",
     "text": [
      "\n"
     ]
    }
   ],
   "source": [
    "#tif_path = Path(\"path/to/005-009_tifs\") # Make sure this is the tif file and not the projections\n",
    "# tif_path = Path(\"/home/ak18001/Data/HDD/uCT/MISC/QIAO_dirty/QT_001-004 [2021-06-03 15.17.37]/QT_001-004_[tifs]\") # Make sure this is the tif file and not the projections\n",
    "\n",
    "output_path = Path(\"path/to/output/\")\n",
    "# output_path = Path(\"/home/ak18001/Data/HDD/uCT/MISC/QIAO_dirty/\")\n",
    "\n",
    "original_scale = 100 # full scale of scan\n",
    "detection_scale = 40 # detection scale\n",
    "slice_range = None # slice range, can be a tuple eg (500,600) or None to read the whole scan\n",
    "\n",
    "dataset_name = 'EK' # eg EK, AK, QT\n",
    "fish_nums = [1,2,3,4] # numbers of fish\n",
    "voxel_size_x = 0.0020\n",
    "voxel_size_y = 0.0020\n",
    "voxel_size_z = 0.0020\n",
    "\n",
    "ct = lump.read_tiff(tif_path, r=slice_range, scale=original_scale)"
   ]
  },
  {
   "cell_type": "markdown",
   "metadata": {},
   "source": [
    "## Step 2\n",
    "\n",
    "Use lumpfish to detect tubes at a 40% scale to make the interface faster\n",
    "\n",
    "This will start a window with all the detection parameters for you to tune"
   ]
  },
  {
   "cell_type": "code",
   "execution_count": 3,
   "metadata": {},
   "outputs": [],
   "source": [
    "scale_40 = lump.rescale(ct, detection_scale)\n",
    "# detect tubes\n",
    "viewer = napari.Viewer(show=False)\n",
    "circle_dict = lump.detectTubes(viewer, scale_40)"
   ]
  },
  {
   "cell_type": "markdown",
   "metadata": {},
   "source": [
    "# Step 3\n",
    "\n",
    "Label the order of the fish - this is usually marked by a sticker or a cap on the tube of the first fish, then go clockwise. If there is a fish in the middle this is the last one."
   ]
  },
  {
   "cell_type": "code",
   "execution_count": 4,
   "metadata": {},
   "outputs": [],
   "source": [
    "# label order\n",
    "viewer = napari.Viewer(show=False)\n",
    "ordered = lump.labelOrder(viewer, circle_dict)"
   ]
  },
  {
   "cell_type": "markdown",
   "metadata": {},
   "source": [
    "# Step 4\n",
    "\n",
    "choose the output folder to save your scans as dicoms, this will label them according to `fish_nums` which you set earlier.\n",
    "\n",
    "Finally crop the fish according to the detection and the order, \n",
    "then align each fish so that the dorsal fin is pointing upwards.\n"
   ]
  },
  {
   "cell_type": "code",
   "execution_count": 5,
   "metadata": {},
   "outputs": [
    {
     "name": "stdout",
     "output_type": "stream",
     "text": [
      "num and shape 1 (10, 534, 534)\n",
      "angle and center 142 None\n",
      "num and shape 2 (10, 524, 524)\n",
      "angle and center 185 None\n",
      "num and shape 3 (10, 490, 490)\n",
      "angle and center 141 (236.39858402012476, 237.74882163531746)\n",
      "num and shape 4 (10, 514, 514)\n",
      "angle and center 182 (258.3884786099122, 253.19512810099314)\n"
     ]
    }
   ],
   "source": [
    "cropped_cts = lump.crop(ct, ordered, scale=[detection_scale,original_scale])\n",
    "\n",
    "df = pd.DataFrame(columns = ['ak_n', 'Dataset', 'old_n', 'age', 'age(old)', 'genotype', 'strain',\n",
    "       'name', 'shape', 'size', 'VoxelSizeX', 'VoxelSizeY', 'VoxelSizeZ',\n",
    "       're-uCT scan', 'Comments', 'Phantom', 'Scaling Value', 'Arb Value',\n",
    "       'angle', 'center'], \n",
    "                   index = fish_nums)\n",
    "\n",
    "for i,cropped in enumerate(cropped_cts):\n",
    "    num = fish_nums[i]\n",
    "\n",
    "    spin_viewer = napari.Viewer(show=False)\n",
    "    angle, center = lump.spin(spin_viewer, cropped)\n",
    "\n",
    "    #TODO make dataframe of new metadata\n",
    "\n",
    "    final_ct = ctreader.rotate_array(cropped, angle, is_label=False, center=center)\n",
    "    ctreader.write_dicom(output_path/f\"{num}.dcm\", final_ct)\n",
    "\n",
    "    print('num and shape', num, cropped.shape)\n",
    "    print('angle and center', angle, center)\n",
    "\n",
    "    df.loc[num]['Dataset']      = dataset_name\n",
    "    df.loc[num]['shape']        = final_ct.shape\n",
    "    df.loc[num]['size']         = final_ct.size\n",
    "    df.loc[num]['VoxelSizeX']   = voxel_size_x\n",
    "    df.loc[num]['VoxelSizeY']   = voxel_size_y\n",
    "    df.loc[num]['VoxelSizeZ']   = voxel_size_z\n",
    "    df.loc[num]['angle']        = angle\n",
    "    df.loc[num]['center']       = center\n",
    "\n",
    "df.to_csv(output_path / \"temp_metadata.csv\")"
   ]
  }
 ],
 "metadata": {
  "interpreter": {
   "hash": "c7ef703d2f74eb191bb54d0010e4327be7d19e2bf5802fe174a384af454545ee"
  },
  "kernelspec": {
   "display_name": "Python 3.8.12 ('fish')",
   "language": "python",
   "name": "python3"
  },
  "language_info": {
   "codemirror_mode": {
    "name": "ipython",
    "version": 3
   },
   "file_extension": ".py",
   "mimetype": "text/x-python",
   "name": "python",
   "nbconvert_exporter": "python",
   "pygments_lexer": "ipython3",
   "version": "3.8.12"
  },
  "orig_nbformat": 4
 },
 "nbformat": 4,
 "nbformat_minor": 2
}
