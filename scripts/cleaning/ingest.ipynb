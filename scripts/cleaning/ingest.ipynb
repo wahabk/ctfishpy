{
 "cells": [
  {
   "cell_type": "markdown",
   "metadata": {},
   "source": [
    "# CTFishPy Ingest Tutorial\n",
    "\n",
    "This notebook will walk you through how to ingest a multi-fish tiff scan and seperate them into separate dicom files. Make sure to also sort out your metadata.\n",
    "\n",
    "Please make sure you have ctfishpy installed. If you have to restart or try again you will have to restart the jupyter notebook - this is due to a fault with napari since it is still in alpha.\n",
    "\n",
    "Before we start let's import ctfishpy and required libraries then initialise the ctreader and lumpfish:\n"
   ]
  },
  {
   "cell_type": "code",
   "execution_count": 2,
   "metadata": {},
   "outputs": [],
   "source": [
    "#Import ctfishpy and initialise ctreader\n",
    "from pathlib2 import Path\n",
    "import pandas as pd\n",
    "import numpy as np\n",
    "import ctfishpy\n",
    "import napari\n",
    "import cv2\n",
    "# from scipy.ndimage import zoom\n",
    "\n",
    "dataset_path = '/home/ak18001/Data/HDD/uCT/'\n",
    "ctreader = ctfishpy.CTreader(data_path=dataset_path)\n",
    "lump = ctfishpy.Lumpfish()"
   ]
  },
  {
   "cell_type": "markdown",
   "metadata": {},
   "source": [
    "## Step 1 - define paths, names and read scan\n",
    "\n",
    "Define the path to your tif folder\n",
    "\n",
    "Change the detection scale to 40 to make the interface quicker\n",
    "\n",
    "Set the slice range to read first for instance (900,1100) will read 200 slices in the middle of the scan, \n",
    "When you are ready to read the whole scan just set slice_range to `None`\n",
    "\n",
    "Number your fish by editing `fish_nums`\n",
    "\n",
    "This step will take the longest (10-15 mins) but you only have to do it once"
   ]
  },
  {
   "cell_type": "code",
   "execution_count": 7,
   "metadata": {},
   "outputs": [
    {
     "name": "stdout",
     "output_type": "stream",
     "text": [
      "[CTFishPy] Reading uCT scan: /home/ak18001/Data/HDD/uCT/MISC/Ingest/dirty/QT_56_60/tifs\n"
     ]
    },
    {
     "name": "stderr",
     "output_type": "stream",
     "text": [
      "100%|██████████| 500/500 [02:11<00:00,  3.80it/s]\n"
     ]
    },
    {
     "name": "stdout",
     "output_type": "stream",
     "text": [
      "(500, 1609, 1374)\n"
     ]
    }
   ],
   "source": [
    "# tif_path = Path(\"path/to/005-009_tifs\") # Make sure this is the tif file and not the projections\n",
    "tif_path = Path(\"/home/ak18001/Data/HDD/uCT/MISC/Ingest/dirty/QT_56_60/tifs/\") # Make sure this is the tif file and not the projections\n",
    "\n",
    "# output_path = Path(\"path/to/output/\")\n",
    "output_path = Path(\"/home/ak18001/Data/HDD/uCT/MISC/Ingest/clean\")\n",
    "\n",
    "original_scale = 100 # full scale of scan\n",
    "detection_scale = 20 # detection scale\n",
    "slice_range = None # slice range, can be a tuple eg (500,600) or None to read the whole scan\n",
    "\n",
    "dataset_name = 'QT' # eg EK, AK, QT\n",
    "fish_nums = [56,57,58,59,60] # numbers of fish in old dataset\n",
    "new_dataset = 'ak'\n",
    "new_nums = [461,462,463,464,465] # numbers of fish in clean dataset\n",
    "voxel_size_x = 0.0202360326938826\n",
    "voxel_size_y = 0.0202360326938826\n",
    "voxel_size_z = 0.0202360326938826\n",
    "\n",
    "ct = lump.read_tiff(tif_path, r=slice_range, scale=original_scale)"
   ]
  },
  {
   "cell_type": "markdown",
   "metadata": {},
   "source": [
    "## Step 2\n",
    "\n",
    "Use lumpfish to detect tubes at a 40% scale to make the interface faster\n",
    "\n",
    "This will start a window with all the detection parameters for you to tune"
   ]
  },
  {
   "cell_type": "code",
   "execution_count": 8,
   "metadata": {},
   "outputs": [
    {
     "ename": "RuntimeError",
     "evalue": "wrapped C/C++ object of type QWidget has been deleted",
     "output_type": "error",
     "traceback": [
      "\u001b[0;31m---------------------------------------------------------------------------\u001b[0m",
      "\u001b[0;31mRuntimeError\u001b[0m                              Traceback (most recent call last)",
      "\u001b[1;32m/home/ak18001/code/ctfishpy/scripts/cleaning/ingest.ipynb Cell 6\u001b[0m in \u001b[0;36m<cell line: 4>\u001b[0;34m()\u001b[0m\n\u001b[1;32m      <a href='vscode-notebook-cell:/home/ak18001/code/ctfishpy/scripts/cleaning/ingest.ipynb#W5sZmlsZQ%3D%3D?line=1'>2</a>\u001b[0m \u001b[39m# detect tubes\u001b[39;00m\n\u001b[1;32m      <a href='vscode-notebook-cell:/home/ak18001/code/ctfishpy/scripts/cleaning/ingest.ipynb#W5sZmlsZQ%3D%3D?line=2'>3</a>\u001b[0m viewer \u001b[39m=\u001b[39m napari\u001b[39m.\u001b[39mViewer(show\u001b[39m=\u001b[39m\u001b[39mFalse\u001b[39;00m)\n\u001b[0;32m----> <a href='vscode-notebook-cell:/home/ak18001/code/ctfishpy/scripts/cleaning/ingest.ipynb#W5sZmlsZQ%3D%3D?line=3'>4</a>\u001b[0m circle_dict \u001b[39m=\u001b[39m lump\u001b[39m.\u001b[39;49mdetectTubes(viewer, scale_40)\n",
      "File \u001b[0;32m~/miniconda3/envs/fish/lib/python3.8/site-packages/ctfishpy/Lumpfish.py:248\u001b[0m, in \u001b[0;36mLumpfish.detectTubes\u001b[0;34m(self, viewer, scan)\u001b[0m\n\u001b[1;32m    245\u001b[0m viewer \u001b[39m=\u001b[39m napari\u001b[39m.\u001b[39mViewer()\n\u001b[1;32m    246\u001b[0m layer \u001b[39m=\u001b[39m viewer\u001b[39m.\u001b[39madd_image(scan, metadata\u001b[39m=\u001b[39mm)\n\u001b[0;32m--> 248\u001b[0m viewer\u001b[39m.\u001b[39;49mwindow\u001b[39m.\u001b[39;49madd_dock_widget(tubeDetector, name\u001b[39m=\u001b[39;49m\u001b[39m\"\u001b[39;49m\u001b[39mtubeDetector\u001b[39;49m\u001b[39m\"\u001b[39;49m)\n\u001b[1;32m    249\u001b[0m viewer\u001b[39m.\u001b[39mlayers\u001b[39m.\u001b[39mevents\u001b[39m.\u001b[39mchanged\u001b[39m.\u001b[39mconnect(tubeDetector\u001b[39m.\u001b[39mreset_choices)\n\u001b[1;32m    251\u001b[0m viewer\u001b[39m.\u001b[39mshow(block\u001b[39m=\u001b[39m\u001b[39mTrue\u001b[39;00m)\n",
      "File \u001b[0;32m~/miniconda3/envs/fish/lib/python3.8/site-packages/napari/_qt/qt_main_window.py:805\u001b[0m, in \u001b[0;36mWindow.add_dock_widget\u001b[0;34m(self, widget, name, area, allowed_areas, shortcut, add_vertical_stretch, menu)\u001b[0m\n\u001b[1;32m    795\u001b[0m     dock_widget \u001b[39m=\u001b[39m QtViewerDockWidget(\n\u001b[1;32m    796\u001b[0m         \u001b[39mself\u001b[39m\u001b[39m.\u001b[39m_qt_viewer,\n\u001b[1;32m    797\u001b[0m         widget,\n\u001b[0;32m   (...)\u001b[0m\n\u001b[1;32m    802\u001b[0m         add_vertical_stretch\u001b[39m=\u001b[39madd_vertical_stretch,\n\u001b[1;32m    803\u001b[0m     )\n\u001b[1;32m    804\u001b[0m \u001b[39melse\u001b[39;00m:\n\u001b[0;32m--> 805\u001b[0m     dock_widget \u001b[39m=\u001b[39m QtViewerDockWidget(\n\u001b[1;32m    806\u001b[0m         \u001b[39mself\u001b[39;49m\u001b[39m.\u001b[39;49m_qt_viewer,\n\u001b[1;32m    807\u001b[0m         widget,\n\u001b[1;32m    808\u001b[0m         name\u001b[39m=\u001b[39;49mname,\n\u001b[1;32m    809\u001b[0m         area\u001b[39m=\u001b[39;49marea,\n\u001b[1;32m    810\u001b[0m         allowed_areas\u001b[39m=\u001b[39;49mallowed_areas,\n\u001b[1;32m    811\u001b[0m         add_vertical_stretch\u001b[39m=\u001b[39;49madd_vertical_stretch,\n\u001b[1;32m    812\u001b[0m     )\n\u001b[1;32m    814\u001b[0m \u001b[39mself\u001b[39m\u001b[39m.\u001b[39m_add_viewer_dock_widget(dock_widget, menu\u001b[39m=\u001b[39mmenu)\n\u001b[1;32m    816\u001b[0m \u001b[39mif\u001b[39;00m \u001b[39mhasattr\u001b[39m(widget, \u001b[39m'\u001b[39m\u001b[39mreset_choices\u001b[39m\u001b[39m'\u001b[39m):\n\u001b[1;32m    817\u001b[0m     \u001b[39m# Keep the dropdown menus in the widget in sync with the layer model\u001b[39;00m\n\u001b[1;32m    818\u001b[0m     \u001b[39m# if widget has a `reset_choices`, which is true for all magicgui\u001b[39;00m\n\u001b[1;32m    819\u001b[0m     \u001b[39m# `CategoricalWidget`s\u001b[39;00m\n",
      "File \u001b[0;32m~/miniconda3/envs/fish/lib/python3.8/site-packages/napari/_qt/widgets/qt_viewer_dock_widget.py:139\u001b[0m, in \u001b[0;36mQtViewerDockWidget.__init__\u001b[0;34m(self, qt_viewer, widget, name, area, allowed_areas, shortcut, object_name, add_vertical_stretch, close_btn)\u001b[0m\n\u001b[1;32m    137\u001b[0m is_vertical \u001b[39m=\u001b[39m area \u001b[39min\u001b[39;00m {\u001b[39m'\u001b[39m\u001b[39mleft\u001b[39m\u001b[39m'\u001b[39m, \u001b[39m'\u001b[39m\u001b[39mright\u001b[39m\u001b[39m'\u001b[39m}\n\u001b[1;32m    138\u001b[0m widget \u001b[39m=\u001b[39m combine_widgets(widget, vertical\u001b[39m=\u001b[39mis_vertical)\n\u001b[0;32m--> 139\u001b[0m \u001b[39mself\u001b[39;49m\u001b[39m.\u001b[39;49msetWidget(widget)\n\u001b[1;32m    140\u001b[0m \u001b[39mif\u001b[39;00m is_vertical \u001b[39mand\u001b[39;00m add_vertical_stretch:\n\u001b[1;32m    141\u001b[0m     \u001b[39mself\u001b[39m\u001b[39m.\u001b[39m_maybe_add_vertical_stretch(widget)\n",
      "File \u001b[0;32m~/miniconda3/envs/fish/lib/python3.8/site-packages/napari/_qt/widgets/qt_viewer_dock_widget.py:278\u001b[0m, in \u001b[0;36mQtViewerDockWidget.setWidget\u001b[0;34m(self, widget)\u001b[0m\n\u001b[1;32m    276\u001b[0m \u001b[39mdef\u001b[39;00m \u001b[39msetWidget\u001b[39m(\u001b[39mself\u001b[39m, widget):\n\u001b[1;32m    277\u001b[0m     widget\u001b[39m.\u001b[39m_parent \u001b[39m=\u001b[39m \u001b[39mself\u001b[39m\n\u001b[0;32m--> 278\u001b[0m     \u001b[39msuper\u001b[39;49m()\u001b[39m.\u001b[39;49msetWidget(widget)\n",
      "\u001b[0;31mRuntimeError\u001b[0m: wrapped C/C++ object of type QWidget has been deleted"
     ]
    }
   ],
   "source": [
    "scale_40 = lump.rescale(ct, detection_scale)\n",
    "# detect tubes\n",
    "viewer = napari.Viewer(show=False)\n",
    "circle_dict = lump.detectTubes(viewer, scale_40)"
   ]
  },
  {
   "cell_type": "markdown",
   "metadata": {},
   "source": [
    "## Step 3\n",
    "\n",
    "Label the order of the fish - this is usually marked by a sticker or a cap on the tube of the first fish, then go clockwise. If there is a fish in the middle this is the last one."
   ]
  },
  {
   "cell_type": "code",
   "execution_count": 5,
   "metadata": {},
   "outputs": [],
   "source": [
    "# label order\n",
    "viewer = napari.Viewer(show=False)\n",
    "ordered = lump.labelOrder(viewer, circle_dict)\n",
    "ordered"
   ]
  },
  {
   "cell_type": "markdown",
   "metadata": {},
   "source": [
    "## Step 4\n",
    "\n",
    "choose the output folder to save your scans as .dicoms, this will label them according to `fish_nums` which you set earlier.\n",
    "\n",
    "Finally crop the fish according to the detection and the order, \n",
    "then align each fish so that the dorsal fin is pointing upwards.\n",
    "\n",
    "This will also create a temporary metadata file for you to fill out."
   ]
  },
  {
   "cell_type": "code",
   "execution_count": 5,
   "metadata": {},
   "outputs": [
    {
     "name": "stdout",
     "output_type": "stream",
     "text": [
      "num and shape 56 (1955, 624, 624)\n",
      "angle and center 76 None\n",
      "num and shape 57 (1955, 614, 614)\n",
      "angle and center 338 None\n",
      "num and shape 58 (1955, 594, 594)\n",
      "angle and center 235 None\n",
      "num and shape 59 (1955, 614, 614)\n",
      "angle and center 140 None\n",
      "num and shape 60 (1955, 624, 624)\n",
      "angle and center 197 None\n"
     ]
    }
   ],
   "source": [
    "cropped_cts = lump.crop(ct, ordered, scale=[detection_scale,original_scale])\n",
    "\n",
    "df = pd.DataFrame(columns = ['n', 'Dataset', 'old_n', 'age', 'age(old)', 'genotype', 'strain',\n",
    "       'name', 'shape', 'size', 'VoxelSizeX', 'VoxelSizeY', 'VoxelSizeZ',\n",
    "       're-uCT scan', 'Comments', 'Phantom', 'Scaling Value', 'Arb Value',\n",
    "       'angle', 'center'], \n",
    "                   index = fish_nums)\n",
    "\n",
    "for i,cropped in enumerate(cropped_cts):\n",
    "    num = fish_nums[i]\n",
    "    new_num = new_nums[i]\n",
    "\n",
    "    spin_viewer = napari.Viewer(show=False)\n",
    "    angle, center = lump.spin(spin_viewer, cropped)\n",
    "\n",
    "    final_ct = ctreader.rotate_array(cropped, angle, is_label=False, center=center)\n",
    "    ctreader.write_dicom(f\"{output_path}/DICOMS/{new_dataset}_{new_num}.dcm\", final_ct)\n",
    "\n",
    "    projections = ctreader.make_max_projections(final_ct)\n",
    "    z,y,x = projections\n",
    "    cv2.imwrite(f'{output_path}/PROJECTIONS/z_{new_num}.png', z)\n",
    "    cv2.imwrite(f'{output_path}/PROJECTIONS/y_{new_num}.png', y)\n",
    "    cv2.imwrite(f'{output_path}/PROJECTIONS/x_{new_num}.png', x)\n",
    "\n",
    "    print('num and shape', num, cropped.shape)\n",
    "    print('angle and center', angle, center)\n",
    "\n",
    "    df.loc[num]['ak_n']         = new_num\n",
    "    df.loc[num]['Dataset']      = dataset_name\n",
    "    df.loc[num]['shape']        = final_ct.shape\n",
    "    df.loc[num]['size']         = final_ct.size\n",
    "    df.loc[num]['VoxelSizeX']   = voxel_size_x\n",
    "    df.loc[num]['VoxelSizeY']   = voxel_size_y\n",
    "    df.loc[num]['VoxelSizeZ']   = voxel_size_z\n",
    "    df.loc[num]['angle']        = angle\n",
    "    df.loc[num]['center']       = center\n",
    "\n",
    "df.to_csv(f\"{output_path}/METADATA/{dataset_name}_{fish_nums[0]}-{fish_nums[-1]}_temp_metadata.csv\")"
   ]
  }
 ],
 "metadata": {
  "interpreter": {
   "hash": "c7ef703d2f74eb191bb54d0010e4327be7d19e2bf5802fe174a384af454545ee"
  },
  "kernelspec": {
   "display_name": "Python 3.8.12 ('fish')",
   "language": "python",
   "name": "python3"
  },
  "language_info": {
   "codemirror_mode": {
    "name": "ipython",
    "version": 3
   },
   "file_extension": ".py",
   "mimetype": "text/x-python",
   "name": "python",
   "nbconvert_exporter": "python",
   "pygments_lexer": "ipython3",
   "version": "3.8.12"
  },
  "orig_nbformat": 4
 },
 "nbformat": 4,
 "nbformat_minor": 2
}
