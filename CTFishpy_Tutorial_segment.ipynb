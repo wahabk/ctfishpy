{
  "cells": [
    {
      "cell_type": "markdown",
      "metadata": {
        "colab_type": "text",
        "id": "view-in-github"
      },
      "source": [
        "<a href=\"https://colab.research.google.com/github/wahabk/ctfishpy/blob/master/CTFishpy_Tutorial_segment.ipynb\" target=\"_parent\"><img src=\"https://colab.research.google.com/assets/colab-badge.svg\" alt=\"Open In Colab\"/></a>"
      ]
    },
    {
      "attachments": {},
      "cell_type": "markdown",
      "metadata": {
        "id": "sQh0_1qVRdQn"
      },
      "source": [
        "# CTFishpy Tutorial: segment a bone!!"
      ]
    },
    {
      "cell_type": "code",
      "execution_count": null,
      "metadata": {
        "cellView": "form",
        "id": "QoPR_bp9RZQL"
      },
      "outputs": [],
      "source": [
        "#@title Input path to tif file, select bone to segment, then hit `Runtime` -> `Run all` in the toolbar above\n",
        "\n",
        "input_dir = '/content/drive/MyDrive/input_tif.tif' #@param {type:\"string\"}\n",
        "result_dir = '/content/drive/MyDrive/result/' #@param {type:\"string\"}\n",
        "bone_to_segment = \"none\" #@param [\"none\", \"JAW\",\"OTOLITHS\", \"\"]\n"
      ]
    },
    {
      "cell_type": "code",
      "execution_count": null,
      "metadata": {
        "cellView": "form",
        "colab": {
          "base_uri": "https://localhost:8080/"
        },
        "id": "npycA-ErRhNo",
        "outputId": "74900f52-c997-4cd3-ef54-7c63162ed844"
      },
      "outputs": [],
      "source": [
        "#@title Install requirements\n",
        "# display_images = True #@param {type:\"boolean\"}\n",
        "\n",
        "# Install requirements\n",
        "%pip install git+https://github.com/wahabk/ctfishpy"
      ]
    },
    {
      "attachments": {},
      "cell_type": "markdown",
      "metadata": {
        "id": "FVenx5NQTAL5"
      },
      "source": [
        "# And now run!\n",
        "\n",
        "Please note the model limitations:\n",
        "\n",
        "**Jaw**: make sure your image size is cropped to a minimum of (160x160x160)\n",
        "You will get better results if you orient the dorsal upwards and axially forwards (first slice).\n",
        "You will get less false positives the smaller your ROI\n",
        "\n",
        "**Otoliths**: make sure your region of interest is exactly (128,128,160)"
      ]
    },
    {
      "cell_type": "code",
      "execution_count": null,
      "metadata": {
        "cellView": "form",
        "colab": {
          "base_uri": "https://localhost:8080/",
          "height": 519
        },
        "id": "XIma9OPTTf7a",
        "outputId": "465c240b-d481-4cc5-ad97-fa6508aca4ca"
      },
      "outputs": [],
      "source": [
        "#@title Install requirements\n",
        "\n",
        "import ctfishpy\n",
        "from tifffile import imsave\n",
        "from pathlib2 import Path\n",
        "\n",
        "def predict_bone(bone_to_segment, input_dir):\n",
        "  if bone_to_segment == None:\n",
        "    raise Exception(\"Please select a bone to segment from the dropdown above\")\n",
        "  elif bone_to_segment == \"JAW\":\n",
        "    bone_obj = ctfishpy.bones.Jaw()\n",
        "  elif bone_to_segment == \"OTOLITHS\":\n",
        "    bone_obj = ctfishpy.bones.Otoliths()\n",
        "\n",
        "\n",
        "  ctreader = ctfishpy.CTreader()\n",
        "  array = ctreader.read_tif(input_dir)\n",
        "  label = bone_obj.predict(array)\n",
        "\n",
        "  # Testing\n",
        "  # dataset_path = \"/home/ak18001/Data/HDD/uCT\"\n",
        "  # ctreader = ctfishpy.CTreader(dataset_path)\n",
        "  # n = 200\n",
        "  # center = ctreader.jaw_centers[n]\n",
        "  # array = ctreader.read_roi(n, (100,100,100), center)\n",
        "  # label = bone_obj.predict(array)\n",
        "  \n",
        "  return array, label\n",
        "\n",
        "\n",
        "\n",
        "if __name__ == \"__main__\": \n",
        "  # Testing\n",
        "  # bone_to_segment = \"JAW\"\n",
        "  # input_dir = None\n",
        "\n",
        "  input_array, label = predict_bone(bone_to_segment, input_dir)\n",
        "  print(label.shape, label.max(), label.min())\n",
        "\n",
        "  input_dir = Path(input_dir)\n",
        "  output_dir = input_dir.parent / input_dir.stem / \"_label.tiff\"\n",
        "  imsave(output_dir, label)\n",
        "  \n",
        "  # TODO show output projections\n",
        "  # ctreader = ctfishpy.CTreader()\n",
        "  # ctreader.make_max_projections(input_array)\n",
        "  # ctreader.label_projections(projections, mask_projections)\n",
        "\n"
      ]
    }
  ],
  "metadata": {
    "colab": {
      "authorship_tag": "ABX9TyOogVIMrQo2+XqiwXjevbj4",
      "include_colab_link": true,
      "provenance": []
    },
    "kernelspec": {
      "display_name": "fish",
      "language": "python",
      "name": "python3"
    },
    "language_info": {
      "codemirror_mode": {
        "name": "ipython",
        "version": 3
      },
      "file_extension": ".py",
      "mimetype": "text/x-python",
      "name": "python",
      "nbconvert_exporter": "python",
      "pygments_lexer": "ipython3",
      "version": "3.8.12"
    },
    "vscode": {
      "interpreter": {
        "hash": "c7ef703d2f74eb191bb54d0010e4327be7d19e2bf5802fe174a384af454545ee"
      }
    }
  },
  "nbformat": 4,
  "nbformat_minor": 0
}
